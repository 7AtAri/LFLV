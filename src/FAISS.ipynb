{
 "cells": [
  {
   "cell_type": "markdown",
   "metadata": {},
   "source": [
    "## FAISS"
   ]
  },
  {
   "cell_type": "markdown",
   "metadata": {},
   "source": [
    "Considerations\n",
    "- Ensure your vectors are normalized if using cosine similarity.\n",
    "- Tune your FAISS index settings based on your specific requirements (speed vs. accuracy).\n",
    "- Be mindful of memory usage, especially with very large datasets.\n",
    "- If your dataset is too large to handle in memory, consider using FAISS's on-disk indexing or clustering large datasets into smaller chunks."
   ]
  },
  {
   "cell_type": "code",
   "execution_count": null,
   "metadata": {},
   "outputs": [],
   "source": [
    "%pip install faiss-cpu  # For CPU\n",
    "# or\n",
    "%pip install faiss-gpu  # For GPU\n"
   ]
  },
  {
   "cell_type": "code",
   "execution_count": null,
   "metadata": {},
   "outputs": [],
   "source": [
    "import numpy as np\n",
    "\n",
    "dim=?\n",
    "size_small_set=20   # Number of vectors in the small set\n",
    "size_large_set=14000   # Number of vectors in the large set\n",
    "# Example data\n",
    "small_set = np.random.rand(size_small_set, dim).astype('float32')  # Replace 'dim' with your vector dimension\n",
    "large_set = np.random.rand(size_large_set, dim).astype('float32')\n"
   ]
  },
  {
   "cell_type": "code",
   "execution_count": null,
   "metadata": {},
   "outputs": [],
   "source": [
    "import faiss\n",
    "\n",
    "# Create a FAISS index\n",
    "index = faiss.IndexFlatL2(dim)  # Use L2 distance for similarity; 'dim' is the dimension of vectors\n",
    "\n",
    "# Add the large set to the index\n",
    "index.add(large_set)\n"
   ]
  },
  {
   "cell_type": "markdown",
   "metadata": {},
   "source": [
    "#### knn search for small set:\n",
    "\n",
    "To find the closest vectors from the small set to the large set, use the search method."
   ]
  },
  {
   "cell_type": "code",
   "execution_count": null,
   "metadata": {},
   "outputs": [],
   "source": [
    "k = 1  # Number of nearest neighbors to find\n",
    "\n",
    "# Find the k nearest neighbors\n",
    "D, I = index.search(small_set, k)  # D is the distance, I is the index of the neighbors in large_set\n"
   ]
  },
  {
   "cell_type": "markdown",
   "metadata": {},
   "source": [
    "D and I will have the distances and the indices of the closest vectors, respectively."
   ]
  },
  {
   "cell_type": "markdown",
   "metadata": {},
   "source": [
    "### Searching for Furthest Vectors"
   ]
  },
  {
   "cell_type": "code",
   "execution_count": null,
   "metadata": {},
   "outputs": [],
   "source": [
    "# Calculate distances to all vectors (inefficient for very large datasets)\n",
    "all_distances = np.linalg.norm(large_set[:, np.newaxis, :] - small_set[np.newaxis, :, :], axis=2)\n",
    "\n",
    "# Get the index of the furthest vector for each vector in the small set\n",
    "furthest_indices = np.argmax(all_distances, axis=0)\n",
    "\n",
    "# Get the actual distances for the furthest vectors\n",
    "furthest_distances = np.max(all_distances, axis=0)\n"
   ]
  }
 ],
 "metadata": {
  "language_info": {
   "name": "python"
  }
 },
 "nbformat": 4,
 "nbformat_minor": 2
}
